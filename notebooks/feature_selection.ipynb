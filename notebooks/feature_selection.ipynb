{
 "cells": [
  {
   "cell_type": "markdown",
   "id": "2a00117e",
   "metadata": {},
   "source": [
    "# Feature Selection "
   ]
  },
  {
   "cell_type": "code",
   "execution_count": 2,
   "id": "6030c1a0",
   "metadata": {},
   "outputs": [
    {
     "name": "stderr",
     "output_type": "stream",
     "text": [
      "wandb: Using wandb-core as the SDK backend.  Please refer to https://wandb.me/wandb-core for more information.\n",
      "wandb: Currently logged in as: brandlq (brandlq-university-of-passau) to https://api.wandb.ai. Use `wandb login --relogin` to force relogin\n"
     ]
    }
   ],
   "source": [
    "import wandb\n",
    "import pandas as pd\n",
    "from utils.evaluation_utils import get_feature_selection_results\n",
    "import os\n",
    "\n",
    "if os.getcwd().endswith(\"notebooks\"):\n",
    "    os.chdir(\"..\")\n",
    "\n",
    "wandb.login()\n",
    "wandb_api = wandb.Api()"
   ]
  },
  {
   "cell_type": "markdown",
   "id": "4d0f3e10",
   "metadata": {},
   "source": [
    "## 1 hour forecasting:\n"
   ]
  },
  {
   "cell_type": "markdown",
   "id": "2ffc1ca9",
   "metadata": {
    "vscode": {
     "languageId": "plaintext"
    }
   },
   "source": [
    "### Round 1:"
   ]
  },
  {
   "cell_type": "code",
   "execution_count": 11,
   "id": "af625d56",
   "metadata": {},
   "outputs": [
    {
     "data": {
      "text/html": [
       "<style type=\"text/css\">\n",
       "</style>\n",
       "<table id=\"T_de129\">\n",
       "  <thead>\n",
       "    <tr>\n",
       "      <th class=\"blank level0\" >&nbsp;</th>\n",
       "      <th id=\"T_de129_level0_col0\" class=\"col_heading level0 col0\" >features</th>\n",
       "      <th id=\"T_de129_level0_col1\" class=\"col_heading level0 col1\" >RMSE</th>\n",
       "      <th id=\"T_de129_level0_col2\" class=\"col_heading level0 col2\" >MAE</th>\n",
       "      <th id=\"T_de129_level0_col3\" class=\"col_heading level0 col3\" >improvement(RMSE)</th>\n",
       "    </tr>\n",
       "  </thead>\n",
       "  <tbody>\n",
       "    <tr>\n",
       "      <th id=\"T_de129_level0_row0\" class=\"row_heading level0 row0\" >3</th>\n",
       "      <td id=\"T_de129_row0_col0\" class=\"data row0 col0\" >['wind_speed', 'wind_direction_sin', 'wind_direction_cos']</td>\n",
       "      <td id=\"T_de129_row0_col1\" class=\"data row0 col1\" >0.6108</td>\n",
       "      <td id=\"T_de129_row0_col2\" class=\"data row0 col2\" >0.4576</td>\n",
       "      <td id=\"T_de129_row0_col3\" class=\"data row0 col3\" >+6.53%</td>\n",
       "    </tr>\n",
       "    <tr>\n",
       "      <th id=\"T_de129_level0_row1\" class=\"row_heading level0 row1\" >0</th>\n",
       "      <td id=\"T_de129_row1_col0\" class=\"data row1 col0\" >['wind_speed', 'relative_humidity']</td>\n",
       "      <td id=\"T_de129_row1_col1\" class=\"data row1 col1\" >0.6201</td>\n",
       "      <td id=\"T_de129_row1_col2\" class=\"data row1 col2\" >0.4580</td>\n",
       "      <td id=\"T_de129_row1_col3\" class=\"data row1 col3\" >+5.12%</td>\n",
       "    </tr>\n",
       "    <tr>\n",
       "      <th id=\"T_de129_level0_row2\" class=\"row_heading level0 row2\" >1</th>\n",
       "      <td id=\"T_de129_row2_col0\" class=\"data row2 col0\" >['wind_speed', 'air_pressure']</td>\n",
       "      <td id=\"T_de129_row2_col1\" class=\"data row2 col1\" >0.6279</td>\n",
       "      <td id=\"T_de129_row2_col2\" class=\"data row2 col2\" >0.4680</td>\n",
       "      <td id=\"T_de129_row2_col3\" class=\"data row2 col3\" >+3.93%</td>\n",
       "    </tr>\n",
       "    <tr>\n",
       "      <th id=\"T_de129_level0_row3\" class=\"row_heading level0 row3\" >2</th>\n",
       "      <td id=\"T_de129_row3_col0\" class=\"data row3 col0\" >['wind_speed', 'air_temperature']</td>\n",
       "      <td id=\"T_de129_row3_col1\" class=\"data row3 col1\" >0.6458</td>\n",
       "      <td id=\"T_de129_row3_col2\" class=\"data row3 col2\" >0.4794</td>\n",
       "      <td id=\"T_de129_row3_col3\" class=\"data row3 col3\" >+1.18%</td>\n",
       "    </tr>\n",
       "    <tr>\n",
       "      <th id=\"T_de129_level0_row4\" class=\"row_heading level0 row4\" >5</th>\n",
       "      <td id=\"T_de129_row4_col0\" class=\"data row4 col0\" >['wind_speed', 'hour_sin', 'hour_cos']</td>\n",
       "      <td id=\"T_de129_row4_col1\" class=\"data row4 col1\" >0.6466</td>\n",
       "      <td id=\"T_de129_row4_col2\" class=\"data row4 col2\" >0.4786</td>\n",
       "      <td id=\"T_de129_row4_col3\" class=\"data row4 col3\" >+1.07%</td>\n",
       "    </tr>\n",
       "    <tr>\n",
       "      <th id=\"T_de129_level0_row5\" class=\"row_heading level0 row5\" >4</th>\n",
       "      <td id=\"T_de129_row5_col0\" class=\"data row5 col0\" >['wind_speed', 'day_sin', 'day_cos']</td>\n",
       "      <td id=\"T_de129_row5_col1\" class=\"data row5 col1\" >0.6506</td>\n",
       "      <td id=\"T_de129_row5_col2\" class=\"data row5 col2\" >0.4825</td>\n",
       "      <td id=\"T_de129_row5_col3\" class=\"data row5 col3\" >+0.45%</td>\n",
       "    </tr>\n",
       "    <tr>\n",
       "      <th id=\"T_de129_level0_row6\" class=\"row_heading level0 row6\" >6</th>\n",
       "      <td id=\"T_de129_row6_col0\" class=\"data row6 col0\" >['wind_speed']</td>\n",
       "      <td id=\"T_de129_row6_col1\" class=\"data row6 col1\" >0.6535</td>\n",
       "      <td id=\"T_de129_row6_col2\" class=\"data row6 col2\" >0.4839</td>\n",
       "      <td id=\"T_de129_row6_col3\" class=\"data row6 col3\" >+0.00%</td>\n",
       "    </tr>\n",
       "  </tbody>\n",
       "</table>\n"
      ],
      "text/plain": [
       "<pandas.io.formats.style.Styler at 0x1c18185efc0>"
      ]
     },
     "execution_count": 11,
     "metadata": {},
     "output_type": "execute_result"
    }
   ],
   "source": [
    "run_ids = [id for id in range(1, 8)]\n",
    "df_round_1 = get_feature_selection_results(run_ids, 1, wandb_api, [\"wind_speed\"])\n",
    "df_round_1.style.format({\"RMSE\": \"{:.4f}\", \"MAE\": \"{:.4f}\", \"improvement(RMSE)\": \"{:+.2f}%\"})"
   ]
  },
  {
   "cell_type": "markdown",
   "id": "1bc1171f",
   "metadata": {},
   "source": [
    "### Round 2\n"
   ]
  },
  {
   "cell_type": "code",
   "execution_count": 12,
   "id": "0f6d299f",
   "metadata": {},
   "outputs": [
    {
     "data": {
      "text/html": [
       "<style type=\"text/css\">\n",
       "</style>\n",
       "<table id=\"T_0e238\">\n",
       "  <thead>\n",
       "    <tr>\n",
       "      <th class=\"blank level0\" >&nbsp;</th>\n",
       "      <th id=\"T_0e238_level0_col0\" class=\"col_heading level0 col0\" >features</th>\n",
       "      <th id=\"T_0e238_level0_col1\" class=\"col_heading level0 col1\" >RMSE</th>\n",
       "      <th id=\"T_0e238_level0_col2\" class=\"col_heading level0 col2\" >MAE</th>\n",
       "      <th id=\"T_0e238_level0_col3\" class=\"col_heading level0 col3\" >improvement(RMSE)</th>\n",
       "    </tr>\n",
       "  </thead>\n",
       "  <tbody>\n",
       "    <tr>\n",
       "      <th id=\"T_0e238_level0_row0\" class=\"row_heading level0 row0\" >2</th>\n",
       "      <td id=\"T_0e238_row0_col0\" class=\"data row0 col0\" >['wind_speed', 'wind_direction_sin', 'wind_direction_cos', 'relative_humidity']</td>\n",
       "      <td id=\"T_0e238_row0_col1\" class=\"data row0 col1\" >0.5922</td>\n",
       "      <td id=\"T_0e238_row0_col2\" class=\"data row0 col2\" >0.4395</td>\n",
       "      <td id=\"T_0e238_row0_col3\" class=\"data row0 col3\" >+3.05%</td>\n",
       "    </tr>\n",
       "    <tr>\n",
       "      <th id=\"T_0e238_level0_row1\" class=\"row_heading level0 row1\" >3</th>\n",
       "      <td id=\"T_0e238_row1_col0\" class=\"data row1 col0\" >['wind_speed', 'wind_direction_sin', 'wind_direction_cos', 'air_pressure']</td>\n",
       "      <td id=\"T_0e238_row1_col1\" class=\"data row1 col1\" >0.6063</td>\n",
       "      <td id=\"T_0e238_row1_col2\" class=\"data row1 col2\" >0.4514</td>\n",
       "      <td id=\"T_0e238_row1_col3\" class=\"data row1 col3\" >+0.74%</td>\n",
       "    </tr>\n",
       "    <tr>\n",
       "      <th id=\"T_0e238_level0_row2\" class=\"row_heading level0 row2\" >6</th>\n",
       "      <td id=\"T_0e238_row2_col0\" class=\"data row2 col0\" >['wind_speed', 'wind_direction_sin', 'wind_direction_cos', 'hour_sin', 'hour_cos']</td>\n",
       "      <td id=\"T_0e238_row2_col1\" class=\"data row2 col1\" >0.6071</td>\n",
       "      <td id=\"T_0e238_row2_col2\" class=\"data row2 col2\" >0.4523</td>\n",
       "      <td id=\"T_0e238_row2_col3\" class=\"data row2 col3\" >+0.61%</td>\n",
       "    </tr>\n",
       "    <tr>\n",
       "      <th id=\"T_0e238_level0_row3\" class=\"row_heading level0 row3\" >4</th>\n",
       "      <td id=\"T_0e238_row3_col0\" class=\"data row3 col0\" >['wind_speed', 'wind_direction_sin', 'wind_direction_cos', 'air_temperature']</td>\n",
       "      <td id=\"T_0e238_row3_col1\" class=\"data row3 col1\" >0.6080</td>\n",
       "      <td id=\"T_0e238_row3_col2\" class=\"data row3 col2\" >0.4537</td>\n",
       "      <td id=\"T_0e238_row3_col3\" class=\"data row3 col3\" >+0.46%</td>\n",
       "    </tr>\n",
       "    <tr>\n",
       "      <th id=\"T_0e238_level0_row4\" class=\"row_heading level0 row4\" >5</th>\n",
       "      <td id=\"T_0e238_row4_col0\" class=\"data row4 col0\" >['wind_speed', 'wind_direction_sin', 'wind_direction_cos', 'day_sin', 'day_cos']</td>\n",
       "      <td id=\"T_0e238_row4_col1\" class=\"data row4 col1\" >0.6087</td>\n",
       "      <td id=\"T_0e238_row4_col2\" class=\"data row4 col2\" >0.4545</td>\n",
       "      <td id=\"T_0e238_row4_col3\" class=\"data row4 col3\" >+0.36%</td>\n",
       "    </tr>\n",
       "    <tr>\n",
       "      <th id=\"T_0e238_level0_row5\" class=\"row_heading level0 row5\" >1</th>\n",
       "      <td id=\"T_0e238_row5_col0\" class=\"data row5 col0\" >['wind_speed', 'wind_direction_sin', 'wind_direction_cos', 'dew_point']</td>\n",
       "      <td id=\"T_0e238_row5_col1\" class=\"data row5 col1\" >0.6091</td>\n",
       "      <td id=\"T_0e238_row5_col2\" class=\"data row5 col2\" >0.4552</td>\n",
       "      <td id=\"T_0e238_row5_col3\" class=\"data row5 col3\" >+0.28%</td>\n",
       "    </tr>\n",
       "    <tr>\n",
       "      <th id=\"T_0e238_level0_row6\" class=\"row_heading level0 row6\" >0</th>\n",
       "      <td id=\"T_0e238_row6_col0\" class=\"data row6 col0\" >['wind_speed', 'wind_direction_sin', 'wind_direction_cos']</td>\n",
       "      <td id=\"T_0e238_row6_col1\" class=\"data row6 col1\" >0.6108</td>\n",
       "      <td id=\"T_0e238_row6_col2\" class=\"data row6 col2\" >0.4576</td>\n",
       "      <td id=\"T_0e238_row6_col3\" class=\"data row6 col3\" >+0.00%</td>\n",
       "    </tr>\n",
       "  </tbody>\n",
       "</table>\n"
      ],
      "text/plain": [
       "<pandas.io.formats.style.Styler at 0x1c181737950>"
      ]
     },
     "execution_count": 12,
     "metadata": {},
     "output_type": "execute_result"
    }
   ],
   "source": [
    "run_ids = [id for id in range(8, 14)]\n",
    "run_ids.append(4)\n",
    "\n",
    "df_round_2 = get_feature_selection_results(\n",
    "    run_ids, 1, wandb_api, [\"wind_speed\", \"wind_direction_sin\", \"wind_direction_cos\"]\n",
    ")\n",
    "df_round_2.style.format({\"RMSE\": \"{:.4f}\", \"MAE\": \"{:.4f}\", \"improvement(RMSE)\": \"{:+.2f}%\"})"
   ]
  },
  {
   "cell_type": "markdown",
   "id": "71929205",
   "metadata": {},
   "source": [
    "### Round 3"
   ]
  },
  {
   "cell_type": "code",
   "execution_count": 13,
   "id": "f4dbb0b1",
   "metadata": {},
   "outputs": [
    {
     "data": {
      "text/html": [
       "<style type=\"text/css\">\n",
       "</style>\n",
       "<table id=\"T_c9093\">\n",
       "  <thead>\n",
       "    <tr>\n",
       "      <th class=\"blank level0\" >&nbsp;</th>\n",
       "      <th id=\"T_c9093_level0_col0\" class=\"col_heading level0 col0\" >features</th>\n",
       "      <th id=\"T_c9093_level0_col1\" class=\"col_heading level0 col1\" >RMSE</th>\n",
       "      <th id=\"T_c9093_level0_col2\" class=\"col_heading level0 col2\" >MAE</th>\n",
       "      <th id=\"T_c9093_level0_col3\" class=\"col_heading level0 col3\" >improvement(RMSE)</th>\n",
       "    </tr>\n",
       "  </thead>\n",
       "  <tbody>\n",
       "    <tr>\n",
       "      <th id=\"T_c9093_level0_row0\" class=\"row_heading level0 row0\" >2</th>\n",
       "      <td id=\"T_c9093_row0_col0\" class=\"data row0 col0\" >['wind_speed', 'wind_direction_sin', 'wind_direction_cos', 'relative_humidity', 'air_pressure']</td>\n",
       "      <td id=\"T_c9093_row0_col1\" class=\"data row0 col1\" >0.5890</td>\n",
       "      <td id=\"T_c9093_row0_col2\" class=\"data row0 col2\" >0.4376</td>\n",
       "      <td id=\"T_c9093_row0_col3\" class=\"data row0 col3\" >+0.54%</td>\n",
       "    </tr>\n",
       "    <tr>\n",
       "      <th id=\"T_c9093_level0_row1\" class=\"row_heading level0 row1\" >3</th>\n",
       "      <td id=\"T_c9093_row1_col0\" class=\"data row1 col0\" >['wind_speed', 'wind_direction_sin', 'wind_direction_cos', 'relative_humidity', 'air_temperature']</td>\n",
       "      <td id=\"T_c9093_row1_col1\" class=\"data row1 col1\" >0.5901</td>\n",
       "      <td id=\"T_c9093_row1_col2\" class=\"data row1 col2\" >0.4412</td>\n",
       "      <td id=\"T_c9093_row1_col3\" class=\"data row1 col3\" >+0.36%</td>\n",
       "    </tr>\n",
       "    <tr>\n",
       "      <th id=\"T_c9093_level0_row2\" class=\"row_heading level0 row2\" >5</th>\n",
       "      <td id=\"T_c9093_row2_col0\" class=\"data row2 col0\" >['wind_speed', 'wind_direction_sin', 'wind_direction_cos', 'relative_humidity', 'hour_sin', 'hour_cos']</td>\n",
       "      <td id=\"T_c9093_row2_col1\" class=\"data row2 col1\" >0.5916</td>\n",
       "      <td id=\"T_c9093_row2_col2\" class=\"data row2 col2\" >0.4402</td>\n",
       "      <td id=\"T_c9093_row2_col3\" class=\"data row2 col3\" >+0.09%</td>\n",
       "    </tr>\n",
       "    <tr>\n",
       "      <th id=\"T_c9093_level0_row3\" class=\"row_heading level0 row3\" >1</th>\n",
       "      <td id=\"T_c9093_row3_col0\" class=\"data row3 col0\" >['wind_speed', 'wind_direction_sin', 'wind_direction_cos', 'relative_humidity', 'dew_point']</td>\n",
       "      <td id=\"T_c9093_row3_col1\" class=\"data row3 col1\" >0.5920</td>\n",
       "      <td id=\"T_c9093_row3_col2\" class=\"data row3 col2\" >0.4415</td>\n",
       "      <td id=\"T_c9093_row3_col3\" class=\"data row3 col3\" >+0.04%</td>\n",
       "    </tr>\n",
       "    <tr>\n",
       "      <th id=\"T_c9093_level0_row4\" class=\"row_heading level0 row4\" >4</th>\n",
       "      <td id=\"T_c9093_row4_col0\" class=\"data row4 col0\" >['wind_speed', 'wind_direction_sin', 'wind_direction_cos', 'relative_humidity', 'day_sin', 'day_cos']</td>\n",
       "      <td id=\"T_c9093_row4_col1\" class=\"data row4 col1\" >0.5922</td>\n",
       "      <td id=\"T_c9093_row4_col2\" class=\"data row4 col2\" >0.4420</td>\n",
       "      <td id=\"T_c9093_row4_col3\" class=\"data row4 col3\" >+0.00%</td>\n",
       "    </tr>\n",
       "    <tr>\n",
       "      <th id=\"T_c9093_level0_row5\" class=\"row_heading level0 row5\" >0</th>\n",
       "      <td id=\"T_c9093_row5_col0\" class=\"data row5 col0\" >['wind_speed', 'wind_direction_sin', 'wind_direction_cos', 'relative_humidity']</td>\n",
       "      <td id=\"T_c9093_row5_col1\" class=\"data row5 col1\" >0.5922</td>\n",
       "      <td id=\"T_c9093_row5_col2\" class=\"data row5 col2\" >0.4395</td>\n",
       "      <td id=\"T_c9093_row5_col3\" class=\"data row5 col3\" >+0.00%</td>\n",
       "    </tr>\n",
       "  </tbody>\n",
       "</table>\n"
      ],
      "text/plain": [
       "<pandas.io.formats.style.Styler at 0x1c1819ea060>"
      ]
     },
     "execution_count": 13,
     "metadata": {},
     "output_type": "execute_result"
    }
   ],
   "source": [
    "run_ids = [i for i in range(14, 19)]\n",
    "run_ids.append(9)\n",
    "\n",
    "df_round_3 = get_feature_selection_results(\n",
    "    run_ids,\n",
    "    1,\n",
    "    wandb_api,\n",
    "    [\"wind_speed\", \"wind_direction_sin\", \"wind_direction_cos\", \"relative_humidity\"],\n",
    ")\n",
    "df_round_3.style.format({\"RMSE\": \"{:.4f}\", \"MAE\": \"{:.4f}\", \"improvement(RMSE)\": \"{:+.2f}%\"})"
   ]
  },
  {
   "cell_type": "markdown",
   "id": "82b98bda",
   "metadata": {},
   "source": [
    "### Round 4"
   ]
  },
  {
   "cell_type": "code",
   "execution_count": 14,
   "id": "669e02e3",
   "metadata": {},
   "outputs": [
    {
     "data": {
      "text/html": [
       "<style type=\"text/css\">\n",
       "</style>\n",
       "<table id=\"T_a5f1c\">\n",
       "  <thead>\n",
       "    <tr>\n",
       "      <th class=\"blank level0\" >&nbsp;</th>\n",
       "      <th id=\"T_a5f1c_level0_col0\" class=\"col_heading level0 col0\" >features</th>\n",
       "      <th id=\"T_a5f1c_level0_col1\" class=\"col_heading level0 col1\" >RMSE</th>\n",
       "      <th id=\"T_a5f1c_level0_col2\" class=\"col_heading level0 col2\" >MAE</th>\n",
       "      <th id=\"T_a5f1c_level0_col3\" class=\"col_heading level0 col3\" >improvement(RMSE)</th>\n",
       "    </tr>\n",
       "  </thead>\n",
       "  <tbody>\n",
       "    <tr>\n",
       "      <th id=\"T_a5f1c_level0_row0\" class=\"row_heading level0 row0\" >2</th>\n",
       "      <td id=\"T_a5f1c_row0_col0\" class=\"data row0 col0\" >['wind_speed', 'wind_direction_sin', 'wind_direction_cos', 'relative_humidity', 'air_pressure', 'air_temperature']</td>\n",
       "      <td id=\"T_a5f1c_row0_col1\" class=\"data row0 col1\" >0.5872</td>\n",
       "      <td id=\"T_a5f1c_row0_col2\" class=\"data row0 col2\" >0.4375</td>\n",
       "      <td id=\"T_a5f1c_row0_col3\" class=\"data row0 col3\" >+0.30%</td>\n",
       "    </tr>\n",
       "    <tr>\n",
       "      <th id=\"T_a5f1c_level0_row1\" class=\"row_heading level0 row1\" >1</th>\n",
       "      <td id=\"T_a5f1c_row1_col0\" class=\"data row1 col0\" >['wind_speed', 'wind_direction_sin', 'wind_direction_cos', 'relative_humidity', 'air_pressure', 'dew_point']</td>\n",
       "      <td id=\"T_a5f1c_row1_col1\" class=\"data row1 col1\" >0.5884</td>\n",
       "      <td id=\"T_a5f1c_row1_col2\" class=\"data row1 col2\" >0.4373</td>\n",
       "      <td id=\"T_a5f1c_row1_col3\" class=\"data row1 col3\" >+0.10%</td>\n",
       "    </tr>\n",
       "    <tr>\n",
       "      <th id=\"T_a5f1c_level0_row2\" class=\"row_heading level0 row2\" >0</th>\n",
       "      <td id=\"T_a5f1c_row2_col0\" class=\"data row2 col0\" >['wind_speed', 'wind_direction_sin', 'wind_direction_cos', 'relative_humidity', 'air_pressure']</td>\n",
       "      <td id=\"T_a5f1c_row2_col1\" class=\"data row2 col1\" >0.5890</td>\n",
       "      <td id=\"T_a5f1c_row2_col2\" class=\"data row2 col2\" >0.4376</td>\n",
       "      <td id=\"T_a5f1c_row2_col3\" class=\"data row2 col3\" >+0.00%</td>\n",
       "    </tr>\n",
       "    <tr>\n",
       "      <th id=\"T_a5f1c_level0_row3\" class=\"row_heading level0 row3\" >3</th>\n",
       "      <td id=\"T_a5f1c_row3_col0\" class=\"data row3 col0\" >['wind_speed', 'wind_direction_sin', 'wind_direction_cos', 'relative_humidity', 'air_pressure', 'day_sin', 'day_cos']</td>\n",
       "      <td id=\"T_a5f1c_row3_col1\" class=\"data row3 col1\" >0.5895</td>\n",
       "      <td id=\"T_a5f1c_row3_col2\" class=\"data row3 col2\" >0.4379</td>\n",
       "      <td id=\"T_a5f1c_row3_col3\" class=\"data row3 col3\" >-0.10%</td>\n",
       "    </tr>\n",
       "    <tr>\n",
       "      <th id=\"T_a5f1c_level0_row4\" class=\"row_heading level0 row4\" >4</th>\n",
       "      <td id=\"T_a5f1c_row4_col0\" class=\"data row4 col0\" >['wind_speed', 'wind_direction_sin', 'wind_direction_cos', 'relative_humidity', 'air_pressure', 'hour_sin', 'hour_cos']</td>\n",
       "      <td id=\"T_a5f1c_row4_col1\" class=\"data row4 col1\" >0.5912</td>\n",
       "      <td id=\"T_a5f1c_row4_col2\" class=\"data row4 col2\" >0.4383</td>\n",
       "      <td id=\"T_a5f1c_row4_col3\" class=\"data row4 col3\" >-0.37%</td>\n",
       "    </tr>\n",
       "  </tbody>\n",
       "</table>\n"
      ],
      "text/plain": [
       "<pandas.io.formats.style.Styler at 0x1c181ab4d40>"
      ]
     },
     "execution_count": 14,
     "metadata": {},
     "output_type": "execute_result"
    }
   ],
   "source": [
    "run_ids = [i for i in range(19, 23)]\n",
    "run_ids.append(15)\n",
    "\n",
    "df_round_3 = get_feature_selection_results(\n",
    "    run_ids,\n",
    "    1,\n",
    "    wandb_api,\n",
    "    [\"wind_speed\", \"wind_direction_sin\", \"wind_direction_cos\", \"relative_humidity\", \"air_pressure\"],\n",
    ")\n",
    "df_round_3.style.format({\"RMSE\": \"{:.4f}\", \"MAE\": \"{:.4f}\", \"improvement(RMSE)\": \"{:+.2f}%\"})"
   ]
  },
  {
   "cell_type": "markdown",
   "id": "efd77d6e",
   "metadata": {},
   "source": [
    "### Round 5"
   ]
  },
  {
   "cell_type": "code",
   "execution_count": 16,
   "id": "069f769a",
   "metadata": {},
   "outputs": [
    {
     "data": {
      "text/html": [
       "<style type=\"text/css\">\n",
       "</style>\n",
       "<table id=\"T_efa4c\">\n",
       "  <thead>\n",
       "    <tr>\n",
       "      <th class=\"blank level0\" >&nbsp;</th>\n",
       "      <th id=\"T_efa4c_level0_col0\" class=\"col_heading level0 col0\" >features</th>\n",
       "      <th id=\"T_efa4c_level0_col1\" class=\"col_heading level0 col1\" >RMSE</th>\n",
       "      <th id=\"T_efa4c_level0_col2\" class=\"col_heading level0 col2\" >MAE</th>\n",
       "      <th id=\"T_efa4c_level0_col3\" class=\"col_heading level0 col3\" >improvement(RMSE)</th>\n",
       "    </tr>\n",
       "  </thead>\n",
       "  <tbody>\n",
       "    <tr>\n",
       "      <th id=\"T_efa4c_level0_row0\" class=\"row_heading level0 row0\" >2</th>\n",
       "      <td id=\"T_efa4c_row0_col0\" class=\"data row0 col0\" >['wind_speed', 'wind_direction_sin', 'wind_direction_cos', 'relative_humidity', 'air_pressure', 'air_temperature', 'day_sin', 'day_cos']</td>\n",
       "      <td id=\"T_efa4c_row0_col1\" class=\"data row0 col1\" >0.5862</td>\n",
       "      <td id=\"T_efa4c_row0_col2\" class=\"data row0 col2\" >0.4366</td>\n",
       "      <td id=\"T_efa4c_row0_col3\" class=\"data row0 col3\" >+0.17%</td>\n",
       "    </tr>\n",
       "    <tr>\n",
       "      <th id=\"T_efa4c_level0_row1\" class=\"row_heading level0 row1\" >3</th>\n",
       "      <td id=\"T_efa4c_row1_col0\" class=\"data row1 col0\" >['wind_speed', 'wind_direction_sin', 'wind_direction_cos', 'relative_humidity', 'air_pressure', 'air_temperature', 'hour_sin', 'hour_cos']</td>\n",
       "      <td id=\"T_efa4c_row1_col1\" class=\"data row1 col1\" >0.5866</td>\n",
       "      <td id=\"T_efa4c_row1_col2\" class=\"data row1 col2\" >0.4368</td>\n",
       "      <td id=\"T_efa4c_row1_col3\" class=\"data row1 col3\" >+0.11%</td>\n",
       "    </tr>\n",
       "    <tr>\n",
       "      <th id=\"T_efa4c_level0_row2\" class=\"row_heading level0 row2\" >0</th>\n",
       "      <td id=\"T_efa4c_row2_col0\" class=\"data row2 col0\" >['wind_speed', 'wind_direction_sin', 'wind_direction_cos', 'relative_humidity', 'air_pressure', 'air_temperature']</td>\n",
       "      <td id=\"T_efa4c_row2_col1\" class=\"data row2 col1\" >0.5872</td>\n",
       "      <td id=\"T_efa4c_row2_col2\" class=\"data row2 col2\" >0.4375</td>\n",
       "      <td id=\"T_efa4c_row2_col3\" class=\"data row2 col3\" >+0.00%</td>\n",
       "    </tr>\n",
       "    <tr>\n",
       "      <th id=\"T_efa4c_level0_row3\" class=\"row_heading level0 row3\" >1</th>\n",
       "      <td id=\"T_efa4c_row3_col0\" class=\"data row3 col0\" >['wind_speed', 'wind_direction_sin', 'wind_direction_cos', 'relative_humidity', 'air_pressure', 'air_temperature', 'dew_point']</td>\n",
       "      <td id=\"T_efa4c_row3_col1\" class=\"data row3 col1\" >0.5922</td>\n",
       "      <td id=\"T_efa4c_row3_col2\" class=\"data row3 col2\" >0.4407</td>\n",
       "      <td id=\"T_efa4c_row3_col3\" class=\"data row3 col3\" >-0.86%</td>\n",
       "    </tr>\n",
       "  </tbody>\n",
       "</table>\n"
      ],
      "text/plain": [
       "<pandas.io.formats.style.Styler at 0x1c18185f830>"
      ]
     },
     "execution_count": 16,
     "metadata": {},
     "output_type": "execute_result"
    }
   ],
   "source": [
    "run_ids = [i for i in range(23, 26)]\n",
    "run_ids.append(20)\n",
    "\n",
    "df_round_3 = get_feature_selection_results(\n",
    "    run_ids,\n",
    "    1,\n",
    "    wandb_api,\n",
    "    [\n",
    "        \"wind_speed\",\n",
    "        \"wind_direction_sin\",\n",
    "        \"wind_direction_cos\",\n",
    "        \"relative_humidity\",\n",
    "        \"air_pressure\",\n",
    "        \"air_temperature\",\n",
    "    ],\n",
    ")\n",
    "df_round_3.style.format({\"RMSE\": \"{:.4f}\", \"MAE\": \"{:.4f}\", \"improvement(RMSE)\": \"{:+.2f}%\"})"
   ]
  },
  {
   "cell_type": "markdown",
   "id": "05216d4a",
   "metadata": {},
   "source": [
    "### Round 6"
   ]
  },
  {
   "cell_type": "code",
   "execution_count": 17,
   "id": "050f1042",
   "metadata": {},
   "outputs": [
    {
     "data": {
      "text/html": [
       "<style type=\"text/css\">\n",
       "</style>\n",
       "<table id=\"T_e81f3\">\n",
       "  <thead>\n",
       "    <tr>\n",
       "      <th class=\"blank level0\" >&nbsp;</th>\n",
       "      <th id=\"T_e81f3_level0_col0\" class=\"col_heading level0 col0\" >features</th>\n",
       "      <th id=\"T_e81f3_level0_col1\" class=\"col_heading level0 col1\" >RMSE</th>\n",
       "      <th id=\"T_e81f3_level0_col2\" class=\"col_heading level0 col2\" >MAE</th>\n",
       "      <th id=\"T_e81f3_level0_col3\" class=\"col_heading level0 col3\" >improvement(RMSE)</th>\n",
       "    </tr>\n",
       "  </thead>\n",
       "  <tbody>\n",
       "    <tr>\n",
       "      <th id=\"T_e81f3_level0_row0\" class=\"row_heading level0 row0\" >2</th>\n",
       "      <td id=\"T_e81f3_row0_col0\" class=\"data row0 col0\" >['wind_speed', 'wind_direction_sin', 'wind_direction_cos', 'relative_humidity', 'air_pressure', 'air_temperature', 'hour_sin', 'hour_cos', 'day_sin', 'day_cos']</td>\n",
       "      <td id=\"T_e81f3_row0_col1\" class=\"data row0 col1\" >0.5852</td>\n",
       "      <td id=\"T_e81f3_row0_col2\" class=\"data row0 col2\" >0.4338</td>\n",
       "      <td id=\"T_e81f3_row0_col3\" class=\"data row0 col3\" >+0.18%</td>\n",
       "    </tr>\n",
       "    <tr>\n",
       "      <th id=\"T_e81f3_level0_row1\" class=\"row_heading level0 row1\" >0</th>\n",
       "      <td id=\"T_e81f3_row1_col0\" class=\"data row1 col0\" >['wind_speed', 'wind_direction_sin', 'wind_direction_cos', 'relative_humidity', 'air_pressure', 'air_temperature', 'day_sin', 'day_cos']</td>\n",
       "      <td id=\"T_e81f3_row1_col1\" class=\"data row1 col1\" >0.5862</td>\n",
       "      <td id=\"T_e81f3_row1_col2\" class=\"data row1 col2\" >0.4366</td>\n",
       "      <td id=\"T_e81f3_row1_col3\" class=\"data row1 col3\" >+0.00%</td>\n",
       "    </tr>\n",
       "    <tr>\n",
       "      <th id=\"T_e81f3_level0_row2\" class=\"row_heading level0 row2\" >1</th>\n",
       "      <td id=\"T_e81f3_row2_col0\" class=\"data row2 col0\" >['wind_speed', 'wind_direction_sin', 'wind_direction_cos', 'relative_humidity', 'air_pressure', 'air_temperature', 'dew_point', 'day_sin', 'day_cos']</td>\n",
       "      <td id=\"T_e81f3_row2_col1\" class=\"data row2 col1\" >0.5933</td>\n",
       "      <td id=\"T_e81f3_row2_col2\" class=\"data row2 col2\" >0.4412</td>\n",
       "      <td id=\"T_e81f3_row2_col3\" class=\"data row2 col3\" >-1.22%</td>\n",
       "    </tr>\n",
       "  </tbody>\n",
       "</table>\n"
      ],
      "text/plain": [
       "<pandas.io.formats.style.Styler at 0x1c1819e89b0>"
      ]
     },
     "execution_count": 17,
     "metadata": {},
     "output_type": "execute_result"
    }
   ],
   "source": [
    "run_ids = [i for i in range(26, 28)]\n",
    "run_ids.append(24)\n",
    "\n",
    "df_round_3 = get_feature_selection_results(\n",
    "    run_ids,\n",
    "    1,\n",
    "    wandb_api,\n",
    "    [\n",
    "        \"wind_speed\",\n",
    "        \"wind_direction_sin\",\n",
    "        \"wind_direction_cos\",\n",
    "        \"relative_humidity\",\n",
    "        \"air_pressure\",\n",
    "        \"air_temperature\",\n",
    "        \"day_sin\",\n",
    "        \"day_cos\"\n",
    "    ],\n",
    ")\n",
    "df_round_3.style.format({\"RMSE\": \"{:.4f}\", \"MAE\": \"{:.4f}\", \"improvement(RMSE)\": \"{:+.2f}%\"})"
   ]
  },
  {
   "cell_type": "markdown",
   "id": "59817ffb",
   "metadata": {},
   "source": [
    "### Round 7"
   ]
  },
  {
   "cell_type": "code",
   "execution_count": 19,
   "id": "ff0b7463",
   "metadata": {},
   "outputs": [
    {
     "data": {
      "text/html": [
       "<style type=\"text/css\">\n",
       "</style>\n",
       "<table id=\"T_9fbf4\">\n",
       "  <thead>\n",
       "    <tr>\n",
       "      <th class=\"blank level0\" >&nbsp;</th>\n",
       "      <th id=\"T_9fbf4_level0_col0\" class=\"col_heading level0 col0\" >features</th>\n",
       "      <th id=\"T_9fbf4_level0_col1\" class=\"col_heading level0 col1\" >RMSE</th>\n",
       "      <th id=\"T_9fbf4_level0_col2\" class=\"col_heading level0 col2\" >MAE</th>\n",
       "      <th id=\"T_9fbf4_level0_col3\" class=\"col_heading level0 col3\" >improvement(RMSE)</th>\n",
       "    </tr>\n",
       "  </thead>\n",
       "  <tbody>\n",
       "    <tr>\n",
       "      <th id=\"T_9fbf4_level0_row0\" class=\"row_heading level0 row0\" >0</th>\n",
       "      <td id=\"T_9fbf4_row0_col0\" class=\"data row0 col0\" >['wind_speed', 'wind_direction_sin', 'wind_direction_cos', 'relative_humidity', 'air_pressure', 'air_temperature', 'hour_sin', 'hour_cos', 'day_sin', 'day_cos']</td>\n",
       "      <td id=\"T_9fbf4_row0_col1\" class=\"data row0 col1\" >0.5852</td>\n",
       "      <td id=\"T_9fbf4_row0_col2\" class=\"data row0 col2\" >0.4338</td>\n",
       "      <td id=\"T_9fbf4_row0_col3\" class=\"data row0 col3\" >+0.00%</td>\n",
       "    </tr>\n",
       "    <tr>\n",
       "      <th id=\"T_9fbf4_level0_row1\" class=\"row_heading level0 row1\" >1</th>\n",
       "      <td id=\"T_9fbf4_row1_col0\" class=\"data row1 col0\" >['wind_speed', 'wind_direction_sin', 'wind_direction_cos', 'relative_humidity', 'air_pressure', 'air_temperature', 'dew_point', 'day_sin', 'day_cos', 'hour_sin', 'hour_cos']</td>\n",
       "      <td id=\"T_9fbf4_row1_col1\" class=\"data row1 col1\" >0.5906</td>\n",
       "      <td id=\"T_9fbf4_row1_col2\" class=\"data row1 col2\" >0.4415</td>\n",
       "      <td id=\"T_9fbf4_row1_col3\" class=\"data row1 col3\" >-0.93%</td>\n",
       "    </tr>\n",
       "  </tbody>\n",
       "</table>\n"
      ],
      "text/plain": [
       "<pandas.io.formats.style.Styler at 0x1c181bef650>"
      ]
     },
     "execution_count": 19,
     "metadata": {},
     "output_type": "execute_result"
    }
   ],
   "source": [
    "run_ids = [27, 28]\n",
    "\n",
    "df_round_3 = get_feature_selection_results(\n",
    "    run_ids,\n",
    "    1,\n",
    "    wandb_api,\n",
    "    [\n",
    "        \"wind_speed\",\n",
    "        \"wind_direction_sin\",\n",
    "        \"wind_direction_cos\",\n",
    "        \"relative_humidity\",\n",
    "        \"air_pressure\",\n",
    "        \"air_temperature\",\n",
    "        \"hour_sin\",\n",
    "        \"hour_cos\",\n",
    "        \"day_sin\",\n",
    "        \"day_cos\",\n",
    "    ],\n",
    ")\n",
    "df_round_3.style.format({\"RMSE\": \"{:.4f}\", \"MAE\": \"{:.4f}\", \"improvement(RMSE)\": \"{:+.2f}%\"})"
   ]
  },
  {
   "cell_type": "markdown",
   "id": "50d4f96b",
   "metadata": {},
   "source": [
    "So we find ['wind_speed', 'wind_direction_sin', 'wind_direction_cos', 'relative_humidity', 'air_pressure', 'air_temperature', 'hour_sin', 'hour_cos', 'day_sin', 'day_cos'] is the best performing feature set"
   ]
  },
  {
   "cell_type": "markdown",
   "id": "82ba95af",
   "metadata": {},
   "source": [
    "## 4-hour forecasting\n"
   ]
  },
  {
   "cell_type": "markdown",
   "id": "c23ef405",
   "metadata": {},
   "source": [
    "### Round 1"
   ]
  },
  {
   "cell_type": "code",
   "execution_count": 3,
   "id": "adda23fd",
   "metadata": {},
   "outputs": [
    {
     "data": {
      "text/html": [
       "<style type=\"text/css\">\n",
       "</style>\n",
       "<table id=\"T_7e390\">\n",
       "  <thead>\n",
       "    <tr>\n",
       "      <th class=\"blank level0\" >&nbsp;</th>\n",
       "      <th id=\"T_7e390_level0_col0\" class=\"col_heading level0 col0\" >features</th>\n",
       "      <th id=\"T_7e390_level0_col1\" class=\"col_heading level0 col1\" >RMSE</th>\n",
       "      <th id=\"T_7e390_level0_col2\" class=\"col_heading level0 col2\" >MAE</th>\n",
       "      <th id=\"T_7e390_level0_col3\" class=\"col_heading level0 col3\" >improvement(RMSE)</th>\n",
       "    </tr>\n",
       "  </thead>\n",
       "  <tbody>\n",
       "    <tr>\n",
       "      <th id=\"T_7e390_level0_row0\" class=\"row_heading level0 row0\" >4</th>\n",
       "      <td id=\"T_7e390_row0_col0\" class=\"data row0 col0\" >['wind_speed', 'wind_direction_sin', 'wind_direction_cos']</td>\n",
       "      <td id=\"T_7e390_row0_col1\" class=\"data row0 col1\" >0.9503</td>\n",
       "      <td id=\"T_7e390_row0_col2\" class=\"data row0 col2\" >0.7054</td>\n",
       "      <td id=\"T_7e390_row0_col3\" class=\"data row0 col3\" >+8.94%</td>\n",
       "    </tr>\n",
       "    <tr>\n",
       "      <th id=\"T_7e390_level0_row1\" class=\"row_heading level0 row1\" >2</th>\n",
       "      <td id=\"T_7e390_row1_col0\" class=\"data row1 col0\" >['wind_speed', 'air_pressure']</td>\n",
       "      <td id=\"T_7e390_row1_col1\" class=\"data row1 col1\" >0.9963</td>\n",
       "      <td id=\"T_7e390_row1_col2\" class=\"data row1 col2\" >0.7358</td>\n",
       "      <td id=\"T_7e390_row1_col3\" class=\"data row1 col3\" >+4.53%</td>\n",
       "    </tr>\n",
       "    <tr>\n",
       "      <th id=\"T_7e390_level0_row2\" class=\"row_heading level0 row2\" >1</th>\n",
       "      <td id=\"T_7e390_row2_col0\" class=\"data row2 col0\" >['wind_speed', 'relative_humidity']</td>\n",
       "      <td id=\"T_7e390_row2_col1\" class=\"data row2 col1\" >1.0166</td>\n",
       "      <td id=\"T_7e390_row2_col2\" class=\"data row2 col2\" >0.7420</td>\n",
       "      <td id=\"T_7e390_row2_col3\" class=\"data row2 col3\" >+2.59%</td>\n",
       "    </tr>\n",
       "    <tr>\n",
       "      <th id=\"T_7e390_level0_row3\" class=\"row_heading level0 row3\" >0</th>\n",
       "      <td id=\"T_7e390_row3_col0\" class=\"data row3 col0\" >['wind_speed', 'dew_point']</td>\n",
       "      <td id=\"T_7e390_row3_col1\" class=\"data row3 col1\" >1.0273</td>\n",
       "      <td id=\"T_7e390_row3_col2\" class=\"data row3 col2\" >0.7578</td>\n",
       "      <td id=\"T_7e390_row3_col3\" class=\"data row3 col3\" >+1.56%</td>\n",
       "    </tr>\n",
       "    <tr>\n",
       "      <th id=\"T_7e390_level0_row4\" class=\"row_heading level0 row4\" >3</th>\n",
       "      <td id=\"T_7e390_row4_col0\" class=\"data row4 col0\" >['wind_speed', 'air_temperature']</td>\n",
       "      <td id=\"T_7e390_row4_col1\" class=\"data row4 col1\" >1.0282</td>\n",
       "      <td id=\"T_7e390_row4_col2\" class=\"data row4 col2\" >0.7545</td>\n",
       "      <td id=\"T_7e390_row4_col3\" class=\"data row4 col3\" >+1.47%</td>\n",
       "    </tr>\n",
       "    <tr>\n",
       "      <th id=\"T_7e390_level0_row5\" class=\"row_heading level0 row5\" >6</th>\n",
       "      <td id=\"T_7e390_row5_col0\" class=\"data row5 col0\" >['wind_speed', 'hour_sin', 'hour_cos']</td>\n",
       "      <td id=\"T_7e390_row5_col1\" class=\"data row5 col1\" >1.0342</td>\n",
       "      <td id=\"T_7e390_row5_col2\" class=\"data row5 col2\" >0.7559</td>\n",
       "      <td id=\"T_7e390_row5_col3\" class=\"data row5 col3\" >+0.90%</td>\n",
       "    </tr>\n",
       "    <tr>\n",
       "      <th id=\"T_7e390_level0_row6\" class=\"row_heading level0 row6\" >5</th>\n",
       "      <td id=\"T_7e390_row6_col0\" class=\"data row6 col0\" >['wind_speed', 'day_sin', 'day_cos']</td>\n",
       "      <td id=\"T_7e390_row6_col1\" class=\"data row6 col1\" >1.0350</td>\n",
       "      <td id=\"T_7e390_row6_col2\" class=\"data row6 col2\" >0.7602</td>\n",
       "      <td id=\"T_7e390_row6_col3\" class=\"data row6 col3\" >+0.82%</td>\n",
       "    </tr>\n",
       "    <tr>\n",
       "      <th id=\"T_7e390_level0_row7\" class=\"row_heading level0 row7\" >7</th>\n",
       "      <td id=\"T_7e390_row7_col0\" class=\"data row7 col0\" >['wind_speed']</td>\n",
       "      <td id=\"T_7e390_row7_col1\" class=\"data row7 col1\" >1.0436</td>\n",
       "      <td id=\"T_7e390_row7_col2\" class=\"data row7 col2\" >0.7655</td>\n",
       "      <td id=\"T_7e390_row7_col3\" class=\"data row7 col3\" >+0.00%</td>\n",
       "    </tr>\n",
       "  </tbody>\n",
       "</table>\n"
      ],
      "text/plain": [
       "<pandas.io.formats.style.Styler at 0x246ca6146b0>"
      ]
     },
     "execution_count": 3,
     "metadata": {},
     "output_type": "execute_result"
    }
   ],
   "source": [
    "run_ids = [id for id in range(8)]\n",
    "df_round_1 = get_feature_selection_results(run_ids, 4, wandb_api, [\"wind_speed\"])\n",
    "df_round_1.style.format({\"RMSE\": \"{:.4f}\", \"MAE\": \"{:.4f}\", \"improvement(RMSE)\": \"{:+.2f}%\"})"
   ]
  },
  {
   "cell_type": "markdown",
   "id": "36a770a4",
   "metadata": {},
   "source": [
    "### Round 2"
   ]
  },
  {
   "cell_type": "code",
   "execution_count": 4,
   "id": "58d6e191",
   "metadata": {},
   "outputs": [
    {
     "data": {
      "text/html": [
       "<style type=\"text/css\">\n",
       "</style>\n",
       "<table id=\"T_1fdc8\">\n",
       "  <thead>\n",
       "    <tr>\n",
       "      <th class=\"blank level0\" >&nbsp;</th>\n",
       "      <th id=\"T_1fdc8_level0_col0\" class=\"col_heading level0 col0\" >features</th>\n",
       "      <th id=\"T_1fdc8_level0_col1\" class=\"col_heading level0 col1\" >RMSE</th>\n",
       "      <th id=\"T_1fdc8_level0_col2\" class=\"col_heading level0 col2\" >MAE</th>\n",
       "      <th id=\"T_1fdc8_level0_col3\" class=\"col_heading level0 col3\" >improvement(RMSE)</th>\n",
       "    </tr>\n",
       "  </thead>\n",
       "  <tbody>\n",
       "    <tr>\n",
       "      <th id=\"T_1fdc8_level0_row0\" class=\"row_heading level0 row0\" >6</th>\n",
       "      <td id=\"T_1fdc8_row0_col0\" class=\"data row0 col0\" >['wind_speed', 'wind_direction_sin', 'wind_direction_cos', 'hour_sin', 'hour_cos']</td>\n",
       "      <td id=\"T_1fdc8_row0_col1\" class=\"data row0 col1\" >0.9404</td>\n",
       "      <td id=\"T_1fdc8_row0_col2\" class=\"data row0 col2\" >0.6936</td>\n",
       "      <td id=\"T_1fdc8_row0_col3\" class=\"data row0 col3\" >+1.04%</td>\n",
       "    </tr>\n",
       "    <tr>\n",
       "      <th id=\"T_1fdc8_level0_row1\" class=\"row_heading level0 row1\" >2</th>\n",
       "      <td id=\"T_1fdc8_row1_col0\" class=\"data row1 col0\" >['wind_speed', 'wind_direction_sin', 'wind_direction_cos', 'relative_humidity']</td>\n",
       "      <td id=\"T_1fdc8_row1_col1\" class=\"data row1 col1\" >0.9419</td>\n",
       "      <td id=\"T_1fdc8_row1_col2\" class=\"data row1 col2\" >0.6930</td>\n",
       "      <td id=\"T_1fdc8_row1_col3\" class=\"data row1 col3\" >+0.89%</td>\n",
       "    </tr>\n",
       "    <tr>\n",
       "      <th id=\"T_1fdc8_level0_row2\" class=\"row_heading level0 row2\" >3</th>\n",
       "      <td id=\"T_1fdc8_row2_col0\" class=\"data row2 col0\" >['wind_speed', 'wind_direction_sin', 'wind_direction_cos', 'air_pressure']</td>\n",
       "      <td id=\"T_1fdc8_row2_col1\" class=\"data row2 col1\" >0.9430</td>\n",
       "      <td id=\"T_1fdc8_row2_col2\" class=\"data row2 col2\" >0.6982</td>\n",
       "      <td id=\"T_1fdc8_row2_col3\" class=\"data row2 col3\" >+0.77%</td>\n",
       "    </tr>\n",
       "    <tr>\n",
       "      <th id=\"T_1fdc8_level0_row3\" class=\"row_heading level0 row3\" >4</th>\n",
       "      <td id=\"T_1fdc8_row3_col0\" class=\"data row3 col0\" >['wind_speed', 'wind_direction_sin', 'wind_direction_cos', 'air_temperature']</td>\n",
       "      <td id=\"T_1fdc8_row3_col1\" class=\"data row3 col1\" >0.9455</td>\n",
       "      <td id=\"T_1fdc8_row3_col2\" class=\"data row3 col2\" >0.6993</td>\n",
       "      <td id=\"T_1fdc8_row3_col3\" class=\"data row3 col3\" >+0.51%</td>\n",
       "    </tr>\n",
       "    <tr>\n",
       "      <th id=\"T_1fdc8_level0_row4\" class=\"row_heading level0 row4\" >5</th>\n",
       "      <td id=\"T_1fdc8_row4_col0\" class=\"data row4 col0\" >['wind_speed', 'wind_direction_sin', 'wind_direction_cos', 'day_sin', 'day_cos']</td>\n",
       "      <td id=\"T_1fdc8_row4_col1\" class=\"data row4 col1\" >0.9468</td>\n",
       "      <td id=\"T_1fdc8_row4_col2\" class=\"data row4 col2\" >0.6997</td>\n",
       "      <td id=\"T_1fdc8_row4_col3\" class=\"data row4 col3\" >+0.37%</td>\n",
       "    </tr>\n",
       "    <tr>\n",
       "      <th id=\"T_1fdc8_level0_row5\" class=\"row_heading level0 row5\" >0</th>\n",
       "      <td id=\"T_1fdc8_row5_col0\" class=\"data row5 col0\" >['wind_speed', 'wind_direction_sin', 'wind_direction_cos']</td>\n",
       "      <td id=\"T_1fdc8_row5_col1\" class=\"data row5 col1\" >0.9503</td>\n",
       "      <td id=\"T_1fdc8_row5_col2\" class=\"data row5 col2\" >0.7054</td>\n",
       "      <td id=\"T_1fdc8_row5_col3\" class=\"data row5 col3\" >+0.00%</td>\n",
       "    </tr>\n",
       "    <tr>\n",
       "      <th id=\"T_1fdc8_level0_row6\" class=\"row_heading level0 row6\" >1</th>\n",
       "      <td id=\"T_1fdc8_row6_col0\" class=\"data row6 col0\" >['wind_speed', 'wind_direction_sin', 'wind_direction_cos', 'dew_point']</td>\n",
       "      <td id=\"T_1fdc8_row6_col1\" class=\"data row6 col1\" >0.9543</td>\n",
       "      <td id=\"T_1fdc8_row6_col2\" class=\"data row6 col2\" >0.7081</td>\n",
       "      <td id=\"T_1fdc8_row6_col3\" class=\"data row6 col3\" >-0.42%</td>\n",
       "    </tr>\n",
       "  </tbody>\n",
       "</table>\n"
      ],
      "text/plain": [
       "<pandas.io.formats.style.Styler at 0x246cbba9880>"
      ]
     },
     "execution_count": 4,
     "metadata": {},
     "output_type": "execute_result"
    }
   ],
   "source": [
    "run_ids = [id for id in range(8, 14)]\n",
    "run_ids.append(4)\n",
    "\n",
    "df_round_2 = get_feature_selection_results(run_ids, 4, wandb_api, [\"wind_speed\", \"wind_direction_sin\", \"wind_direction_cos\"])\n",
    "df_round_2.style.format({\"RMSE\": \"{:.4f}\", \"MAE\": \"{:.4f}\", \"improvement(RMSE)\": \"{:+.2f}%\"})"
   ]
  },
  {
   "cell_type": "markdown",
   "id": "9377ae5d",
   "metadata": {},
   "source": [
    "### Round 3"
   ]
  },
  {
   "cell_type": "code",
   "execution_count": 7,
   "id": "04f711c2",
   "metadata": {},
   "outputs": [
    {
     "data": {
      "text/html": [
       "<style type=\"text/css\">\n",
       "</style>\n",
       "<table id=\"T_5b256\">\n",
       "  <thead>\n",
       "    <tr>\n",
       "      <th class=\"blank level0\" >&nbsp;</th>\n",
       "      <th id=\"T_5b256_level0_col0\" class=\"col_heading level0 col0\" >features</th>\n",
       "      <th id=\"T_5b256_level0_col1\" class=\"col_heading level0 col1\" >RMSE</th>\n",
       "      <th id=\"T_5b256_level0_col2\" class=\"col_heading level0 col2\" >MAE</th>\n",
       "      <th id=\"T_5b256_level0_col3\" class=\"col_heading level0 col3\" >improvement(RMSE)</th>\n",
       "    </tr>\n",
       "  </thead>\n",
       "  <tbody>\n",
       "    <tr>\n",
       "      <th id=\"T_5b256_level0_row0\" class=\"row_heading level0 row0\" >5</th>\n",
       "      <td id=\"T_5b256_row0_col0\" class=\"data row0 col0\" >['wind_speed', 'wind_direction_sin', 'wind_direction_cos', 'day_sin', 'day_cos', 'hour_sin', 'hour_cos']</td>\n",
       "      <td id=\"T_5b256_row0_col1\" class=\"data row0 col1\" >0.9334</td>\n",
       "      <td id=\"T_5b256_row0_col2\" class=\"data row0 col2\" >0.6900</td>\n",
       "      <td id=\"T_5b256_row0_col3\" class=\"data row0 col3\" >+0.74%</td>\n",
       "    </tr>\n",
       "    <tr>\n",
       "      <th id=\"T_5b256_level0_row1\" class=\"row_heading level0 row1\" >0</th>\n",
       "      <td id=\"T_5b256_row1_col0\" class=\"data row1 col0\" >['wind_speed', 'wind_direction_sin', 'wind_direction_cos', 'hour_sin', 'hour_cos']</td>\n",
       "      <td id=\"T_5b256_row1_col1\" class=\"data row1 col1\" >0.9404</td>\n",
       "      <td id=\"T_5b256_row1_col2\" class=\"data row1 col2\" >0.6936</td>\n",
       "      <td id=\"T_5b256_row1_col3\" class=\"data row1 col3\" >+0.00%</td>\n",
       "    </tr>\n",
       "    <tr>\n",
       "      <th id=\"T_5b256_level0_row2\" class=\"row_heading level0 row2\" >2</th>\n",
       "      <td id=\"T_5b256_row2_col0\" class=\"data row2 col0\" >['wind_speed', 'wind_direction_sin', 'wind_direction_cos', 'relative_humidity', 'hour_sin', 'hour_cos']</td>\n",
       "      <td id=\"T_5b256_row2_col1\" class=\"data row2 col1\" >0.9405</td>\n",
       "      <td id=\"T_5b256_row2_col2\" class=\"data row2 col2\" >0.6920</td>\n",
       "      <td id=\"T_5b256_row2_col3\" class=\"data row2 col3\" >-0.02%</td>\n",
       "    </tr>\n",
       "    <tr>\n",
       "      <th id=\"T_5b256_level0_row3\" class=\"row_heading level0 row3\" >3</th>\n",
       "      <td id=\"T_5b256_row3_col0\" class=\"data row3 col0\" >['wind_speed', 'wind_direction_sin', 'wind_direction_cos', 'air_pressure', 'hour_sin', 'hour_cos']</td>\n",
       "      <td id=\"T_5b256_row3_col1\" class=\"data row3 col1\" >0.9431</td>\n",
       "      <td id=\"T_5b256_row3_col2\" class=\"data row3 col2\" >0.6978</td>\n",
       "      <td id=\"T_5b256_row3_col3\" class=\"data row3 col3\" >-0.29%</td>\n",
       "    </tr>\n",
       "    <tr>\n",
       "      <th id=\"T_5b256_level0_row4\" class=\"row_heading level0 row4\" >4</th>\n",
       "      <td id=\"T_5b256_row4_col0\" class=\"data row4 col0\" >['wind_speed', 'wind_direction_sin', 'wind_direction_cos', 'air_temperature', 'hour_sin', 'hour_cos']</td>\n",
       "      <td id=\"T_5b256_row4_col1\" class=\"data row4 col1\" >0.9477</td>\n",
       "      <td id=\"T_5b256_row4_col2\" class=\"data row4 col2\" >0.6992</td>\n",
       "      <td id=\"T_5b256_row4_col3\" class=\"data row4 col3\" >-0.78%</td>\n",
       "    </tr>\n",
       "    <tr>\n",
       "      <th id=\"T_5b256_level0_row5\" class=\"row_heading level0 row5\" >1</th>\n",
       "      <td id=\"T_5b256_row5_col0\" class=\"data row5 col0\" >['wind_speed', 'wind_direction_sin', 'wind_direction_cos', 'dew_point', 'hour_sin', 'hour_cos']</td>\n",
       "      <td id=\"T_5b256_row5_col1\" class=\"data row5 col1\" >0.9498</td>\n",
       "      <td id=\"T_5b256_row5_col2\" class=\"data row5 col2\" >0.7020</td>\n",
       "      <td id=\"T_5b256_row5_col3\" class=\"data row5 col3\" >-1.00%</td>\n",
       "    </tr>\n",
       "  </tbody>\n",
       "</table>\n"
      ],
      "text/plain": [
       "<pandas.io.formats.style.Styler at 0x246cbdb8800>"
      ]
     },
     "execution_count": 7,
     "metadata": {},
     "output_type": "execute_result"
    }
   ],
   "source": [
    "run_ids = [id for id in range(14, 19)]\n",
    "run_ids.append(13)\n",
    "\n",
    "df_round_2 = get_feature_selection_results(\n",
    "    run_ids,\n",
    "    4,\n",
    "    wandb_api,\n",
    "    [\"wind_speed\", \"wind_direction_sin\", \"wind_direction_cos\", \"hour_sin\", \"hour_cos\"],\n",
    ")\n",
    "df_round_2.style.format({\"RMSE\": \"{:.4f}\", \"MAE\": \"{:.4f}\", \"improvement(RMSE)\": \"{:+.2f}%\"})"
   ]
  },
  {
   "cell_type": "code",
   "execution_count": 10,
   "id": "0cb9ae96",
   "metadata": {},
   "outputs": [
    {
     "data": {
      "text/html": [
       "<style type=\"text/css\">\n",
       "</style>\n",
       "<table id=\"T_34179\">\n",
       "  <thead>\n",
       "    <tr>\n",
       "      <th class=\"blank level0\" >&nbsp;</th>\n",
       "      <th id=\"T_34179_level0_col0\" class=\"col_heading level0 col0\" >features</th>\n",
       "      <th id=\"T_34179_level0_col1\" class=\"col_heading level0 col1\" >RMSE</th>\n",
       "      <th id=\"T_34179_level0_col2\" class=\"col_heading level0 col2\" >MAE</th>\n",
       "      <th id=\"T_34179_level0_col3\" class=\"col_heading level0 col3\" >improvement(RMSE)</th>\n",
       "    </tr>\n",
       "  </thead>\n",
       "  <tbody>\n",
       "    <tr>\n",
       "      <th id=\"T_34179_level0_row0\" class=\"row_heading level0 row0\" >2</th>\n",
       "      <td id=\"T_34179_row0_col0\" class=\"data row0 col0\" >['wind_speed', 'wind_direction_sin', 'wind_direction_cos', 'relative_humidity', 'hour_sin', 'hour_cos', 'day_sin', 'day_cos']</td>\n",
       "      <td id=\"T_34179_row0_col1\" class=\"data row0 col1\" >0.9229</td>\n",
       "      <td id=\"T_34179_row0_col2\" class=\"data row0 col2\" >0.6790</td>\n",
       "      <td id=\"T_34179_row0_col3\" class=\"data row0 col3\" >+1.13%</td>\n",
       "    </tr>\n",
       "    <tr>\n",
       "      <th id=\"T_34179_level0_row1\" class=\"row_heading level0 row1\" >3</th>\n",
       "      <td id=\"T_34179_row1_col0\" class=\"data row1 col0\" >['wind_speed', 'wind_direction_sin', 'wind_direction_cos', 'air_pressure', 'hour_sin', 'hour_cos', 'day_sin', 'day_cos']</td>\n",
       "      <td id=\"T_34179_row1_col1\" class=\"data row1 col1\" >0.9327</td>\n",
       "      <td id=\"T_34179_row1_col2\" class=\"data row1 col2\" >0.6906</td>\n",
       "      <td id=\"T_34179_row1_col3\" class=\"data row1 col3\" >+0.07%</td>\n",
       "    </tr>\n",
       "    <tr>\n",
       "      <th id=\"T_34179_level0_row2\" class=\"row_heading level0 row2\" >0</th>\n",
       "      <td id=\"T_34179_row2_col0\" class=\"data row2 col0\" >['wind_speed', 'wind_direction_sin', 'wind_direction_cos', 'day_sin', 'day_cos', 'hour_sin', 'hour_cos']</td>\n",
       "      <td id=\"T_34179_row2_col1\" class=\"data row2 col1\" >0.9334</td>\n",
       "      <td id=\"T_34179_row2_col2\" class=\"data row2 col2\" >0.6900</td>\n",
       "      <td id=\"T_34179_row2_col3\" class=\"data row2 col3\" >+0.00%</td>\n",
       "    </tr>\n",
       "    <tr>\n",
       "      <th id=\"T_34179_level0_row3\" class=\"row_heading level0 row3\" >4</th>\n",
       "      <td id=\"T_34179_row3_col0\" class=\"data row3 col0\" >['wind_speed', 'wind_direction_sin', 'wind_direction_cos', 'air_temperature', 'hour_sin', 'hour_cos', 'day_sin', 'day_cos']</td>\n",
       "      <td id=\"T_34179_row3_col1\" class=\"data row3 col1\" >0.9361</td>\n",
       "      <td id=\"T_34179_row3_col2\" class=\"data row3 col2\" >0.6912</td>\n",
       "      <td id=\"T_34179_row3_col3\" class=\"data row3 col3\" >-0.29%</td>\n",
       "    </tr>\n",
       "    <tr>\n",
       "      <th id=\"T_34179_level0_row4\" class=\"row_heading level0 row4\" >1</th>\n",
       "      <td id=\"T_34179_row4_col0\" class=\"data row4 col0\" >['wind_speed', 'wind_direction_sin', 'wind_direction_cos', 'dew_point', 'hour_sin', 'hour_cos', 'day_sin', 'day_cos']</td>\n",
       "      <td id=\"T_34179_row4_col1\" class=\"data row4 col1\" >0.9370</td>\n",
       "      <td id=\"T_34179_row4_col2\" class=\"data row4 col2\" >0.6934</td>\n",
       "      <td id=\"T_34179_row4_col3\" class=\"data row4 col3\" >-0.39%</td>\n",
       "    </tr>\n",
       "  </tbody>\n",
       "</table>\n"
      ],
      "text/plain": [
       "<pandas.io.formats.style.Styler at 0x246cbf8b950>"
      ]
     },
     "execution_count": 10,
     "metadata": {},
     "output_type": "execute_result"
    }
   ],
   "source": [
    "run_ids = [id for id in range(18, 23)]\n",
    "\n",
    "df_round_2 = get_feature_selection_results(\n",
    "    run_ids,\n",
    "    4,\n",
    "    wandb_api,\n",
    "    [\n",
    "        \"wind_speed\",\n",
    "        \"wind_direction_sin\",\n",
    "        \"wind_direction_cos\",\n",
    "        \"day_sin\",\n",
    "        \"day_cos\",\n",
    "        \"hour_sin\",\n",
    "        \"hour_cos\",\n",
    "    ],\n",
    ")\n",
    "df_round_2.style.format({\"RMSE\": \"{:.4f}\", \"MAE\": \"{:.4f}\", \"improvement(RMSE)\": \"{:+.2f}%\"})"
   ]
  },
  {
   "cell_type": "code",
   "execution_count": null,
   "id": "6c6212a0",
   "metadata": {},
   "outputs": [
    {
     "data": {
      "text/html": [
       "<style type=\"text/css\">\n",
       "</style>\n",
       "<table id=\"T_34179\">\n",
       "  <thead>\n",
       "    <tr>\n",
       "      <th class=\"blank level0\" >&nbsp;</th>\n",
       "      <th id=\"T_34179_level0_col0\" class=\"col_heading level0 col0\" >features</th>\n",
       "      <th id=\"T_34179_level0_col1\" class=\"col_heading level0 col1\" >RMSE</th>\n",
       "      <th id=\"T_34179_level0_col2\" class=\"col_heading level0 col2\" >MAE</th>\n",
       "      <th id=\"T_34179_level0_col3\" class=\"col_heading level0 col3\" >improvement(RMSE)</th>\n",
       "    </tr>\n",
       "  </thead>\n",
       "  <tbody>\n",
       "    <tr>\n",
       "      <th id=\"T_34179_level0_row0\" class=\"row_heading level0 row0\" >2</th>\n",
       "      <td id=\"T_34179_row0_col0\" class=\"data row0 col0\" >['wind_speed', 'wind_direction_sin', 'wind_direction_cos', 'relative_humidity', 'hour_sin', 'hour_cos', 'day_sin', 'day_cos']</td>\n",
       "      <td id=\"T_34179_row0_col1\" class=\"data row0 col1\" >0.9229</td>\n",
       "      <td id=\"T_34179_row0_col2\" class=\"data row0 col2\" >0.6790</td>\n",
       "      <td id=\"T_34179_row0_col3\" class=\"data row0 col3\" >+1.13%</td>\n",
       "    </tr>\n",
       "    <tr>\n",
       "      <th id=\"T_34179_level0_row1\" class=\"row_heading level0 row1\" >3</th>\n",
       "      <td id=\"T_34179_row1_col0\" class=\"data row1 col0\" >['wind_speed', 'wind_direction_sin', 'wind_direction_cos', 'air_pressure', 'hour_sin', 'hour_cos', 'day_sin', 'day_cos']</td>\n",
       "      <td id=\"T_34179_row1_col1\" class=\"data row1 col1\" >0.9327</td>\n",
       "      <td id=\"T_34179_row1_col2\" class=\"data row1 col2\" >0.6906</td>\n",
       "      <td id=\"T_34179_row1_col3\" class=\"data row1 col3\" >+0.07%</td>\n",
       "    </tr>\n",
       "    <tr>\n",
       "      <th id=\"T_34179_level0_row2\" class=\"row_heading level0 row2\" >0</th>\n",
       "      <td id=\"T_34179_row2_col0\" class=\"data row2 col0\" >['wind_speed', 'wind_direction_sin', 'wind_direction_cos', 'day_sin', 'day_cos', 'hour_sin', 'hour_cos']</td>\n",
       "      <td id=\"T_34179_row2_col1\" class=\"data row2 col1\" >0.9334</td>\n",
       "      <td id=\"T_34179_row2_col2\" class=\"data row2 col2\" >0.6900</td>\n",
       "      <td id=\"T_34179_row2_col3\" class=\"data row2 col3\" >+0.00%</td>\n",
       "    </tr>\n",
       "    <tr>\n",
       "      <th id=\"T_34179_level0_row3\" class=\"row_heading level0 row3\" >4</th>\n",
       "      <td id=\"T_34179_row3_col0\" class=\"data row3 col0\" >['wind_speed', 'wind_direction_sin', 'wind_direction_cos', 'air_temperature', 'hour_sin', 'hour_cos', 'day_sin', 'day_cos']</td>\n",
       "      <td id=\"T_34179_row3_col1\" class=\"data row3 col1\" >0.9361</td>\n",
       "      <td id=\"T_34179_row3_col2\" class=\"data row3 col2\" >0.6912</td>\n",
       "      <td id=\"T_34179_row3_col3\" class=\"data row3 col3\" >-0.29%</td>\n",
       "    </tr>\n",
       "    <tr>\n",
       "      <th id=\"T_34179_level0_row4\" class=\"row_heading level0 row4\" >1</th>\n",
       "      <td id=\"T_34179_row4_col0\" class=\"data row4 col0\" >['wind_speed', 'wind_direction_sin', 'wind_direction_cos', 'dew_point', 'hour_sin', 'hour_cos', 'day_sin', 'day_cos']</td>\n",
       "      <td id=\"T_34179_row4_col1\" class=\"data row4 col1\" >0.9370</td>\n",
       "      <td id=\"T_34179_row4_col2\" class=\"data row4 col2\" >0.6934</td>\n",
       "      <td id=\"T_34179_row4_col3\" class=\"data row4 col3\" >-0.39%</td>\n",
       "    </tr>\n",
       "  </tbody>\n",
       "</table>\n"
      ],
      "text/plain": [
       "<pandas.io.formats.style.Styler at 0x246cbf8b950>"
      ]
     },
     "metadata": {},
     "output_type": "display_data"
    }
   ],
   "source": [
    "run_ids = [id for id in range(23, 26)]\n",
    "run_ids.append(20)\n",
    "\n",
    "df_round_2 = get_feature_selection_results(\n",
    "    run_ids,\n",
    "    4,\n",
    "    wandb_api,\n",
    "    [\n",
    "        \"wind_speed\",\n",
    "        \"wind_direction_sin\",\n",
    "        \"wind_direction_cos\",\n",
    "        \"day_sin\",\n",
    "        \"day_cos\",\n",
    "        \"hour_sin\",\n",
    "        \"hour_cos\",\n",
    "    ],\n",
    ")\n",
    "df_round_2.style.format({\"RMSE\": \"{:.4f}\", \"MAE\": \"{:.4f}\", \"improvement(RMSE)\": \"{:+.2f}%\"})"
   ]
  },
  {
   "cell_type": "markdown",
   "id": "118f7e0d",
   "metadata": {},
   "source": [
    "So we select wind_speed, wind_direction and hour_of_day as best feature set"
   ]
  },
  {
   "cell_type": "markdown",
   "id": "0318347c",
   "metadata": {},
   "source": [
    "So we select wind_speed, wind_direction and hour_of_day as best feature set"
   ]
  },
  {
   "cell_type": "markdown",
   "id": "302868b0",
   "metadata": {},
   "source": [
    "## 8-hour forecasting\n"
   ]
  },
  {
   "cell_type": "markdown",
   "id": "3c3418a6",
   "metadata": {},
   "source": [
    "### Round 1"
   ]
  },
  {
   "cell_type": "code",
   "execution_count": 9,
   "id": "7399e58d",
   "metadata": {},
   "outputs": [
    {
     "data": {
      "text/html": [
       "<style type=\"text/css\">\n",
       "</style>\n",
       "<table id=\"T_20c33\">\n",
       "  <thead>\n",
       "    <tr>\n",
       "      <th class=\"blank level0\" >&nbsp;</th>\n",
       "      <th id=\"T_20c33_level0_col0\" class=\"col_heading level0 col0\" >features</th>\n",
       "      <th id=\"T_20c33_level0_col1\" class=\"col_heading level0 col1\" >RMSE</th>\n",
       "      <th id=\"T_20c33_level0_col2\" class=\"col_heading level0 col2\" >MAE</th>\n",
       "      <th id=\"T_20c33_level0_col3\" class=\"col_heading level0 col3\" >improvement(RMSE)</th>\n",
       "    </tr>\n",
       "  </thead>\n",
       "  <tbody>\n",
       "    <tr>\n",
       "      <th id=\"T_20c33_level0_row0\" class=\"row_heading level0 row0\" >4</th>\n",
       "      <td id=\"T_20c33_row0_col0\" class=\"data row0 col0\" >['wind_speed', 'wind_direction_cos', 'wind_direction_sin']</td>\n",
       "      <td id=\"T_20c33_row0_col1\" class=\"data row0 col1\" >1.2531</td>\n",
       "      <td id=\"T_20c33_row0_col2\" class=\"data row0 col2\" >0.9297</td>\n",
       "      <td id=\"T_20c33_row0_col3\" class=\"data row0 col3\" >+7.17%</td>\n",
       "    </tr>\n",
       "    <tr>\n",
       "      <th id=\"T_20c33_level0_row1\" class=\"row_heading level0 row1\" >3</th>\n",
       "      <td id=\"T_20c33_row1_col0\" class=\"data row1 col0\" >['wind_speed', 'air_pressure']</td>\n",
       "      <td id=\"T_20c33_row1_col1\" class=\"data row1 col1\" >1.3200</td>\n",
       "      <td id=\"T_20c33_row1_col2\" class=\"data row1 col2\" >0.9842</td>\n",
       "      <td id=\"T_20c33_row1_col3\" class=\"data row1 col3\" >+2.22%</td>\n",
       "    </tr>\n",
       "    <tr>\n",
       "      <th id=\"T_20c33_level0_row2\" class=\"row_heading level0 row2\" >6</th>\n",
       "      <td id=\"T_20c33_row2_col0\" class=\"data row2 col0\" >['wind_speed', 'hour_sin', 'hour_cos']</td>\n",
       "      <td id=\"T_20c33_row2_col1\" class=\"data row2 col1\" >1.3351</td>\n",
       "      <td id=\"T_20c33_row2_col2\" class=\"data row2 col2\" >0.9862</td>\n",
       "      <td id=\"T_20c33_row2_col3\" class=\"data row2 col3\" >+1.09%</td>\n",
       "    </tr>\n",
       "    <tr>\n",
       "      <th id=\"T_20c33_level0_row3\" class=\"row_heading level0 row3\" >2</th>\n",
       "      <td id=\"T_20c33_row3_col0\" class=\"data row3 col0\" >['wind_speed', 'relative_humidity']</td>\n",
       "      <td id=\"T_20c33_row3_col1\" class=\"data row3 col1\" >1.3376</td>\n",
       "      <td id=\"T_20c33_row3_col2\" class=\"data row3 col2\" >0.9920</td>\n",
       "      <td id=\"T_20c33_row3_col3\" class=\"data row3 col3\" >+0.91%</td>\n",
       "    </tr>\n",
       "    <tr>\n",
       "      <th id=\"T_20c33_level0_row4\" class=\"row_heading level0 row4\" >5</th>\n",
       "      <td id=\"T_20c33_row4_col0\" class=\"data row4 col0\" >['wind_speed', 'day_sin', 'day_cos']</td>\n",
       "      <td id=\"T_20c33_row4_col1\" class=\"data row4 col1\" >1.3409</td>\n",
       "      <td id=\"T_20c33_row4_col2\" class=\"data row4 col2\" >0.9974</td>\n",
       "      <td id=\"T_20c33_row4_col3\" class=\"data row4 col3\" >+0.67%</td>\n",
       "    </tr>\n",
       "    <tr>\n",
       "      <th id=\"T_20c33_level0_row5\" class=\"row_heading level0 row5\" >1</th>\n",
       "      <td id=\"T_20c33_row5_col0\" class=\"data row5 col0\" >['wind_speed', 'air_temperature']</td>\n",
       "      <td id=\"T_20c33_row5_col1\" class=\"data row5 col1\" >1.3452</td>\n",
       "      <td id=\"T_20c33_row5_col2\" class=\"data row5 col2\" >0.9989</td>\n",
       "      <td id=\"T_20c33_row5_col3\" class=\"data row5 col3\" >+0.35%</td>\n",
       "    </tr>\n",
       "    <tr>\n",
       "      <th id=\"T_20c33_level0_row6\" class=\"row_heading level0 row6\" >7</th>\n",
       "      <td id=\"T_20c33_row6_col0\" class=\"data row6 col0\" >['wind_speed']</td>\n",
       "      <td id=\"T_20c33_row6_col1\" class=\"data row6 col1\" >1.3499</td>\n",
       "      <td id=\"T_20c33_row6_col2\" class=\"data row6 col2\" >1.0060</td>\n",
       "      <td id=\"T_20c33_row6_col3\" class=\"data row6 col3\" >+0.00%</td>\n",
       "    </tr>\n",
       "    <tr>\n",
       "      <th id=\"T_20c33_level0_row7\" class=\"row_heading level0 row7\" >0</th>\n",
       "      <td id=\"T_20c33_row7_col0\" class=\"data row7 col0\" >['wind_speed', 'dew_point']</td>\n",
       "      <td id=\"T_20c33_row7_col1\" class=\"data row7 col1\" >1.3506</td>\n",
       "      <td id=\"T_20c33_row7_col2\" class=\"data row7 col2\" >1.0065</td>\n",
       "      <td id=\"T_20c33_row7_col3\" class=\"data row7 col3\" >-0.05%</td>\n",
       "    </tr>\n",
       "  </tbody>\n",
       "</table>\n"
      ],
      "text/plain": [
       "<pandas.io.formats.style.Styler at 0x21fad57c470>"
      ]
     },
     "execution_count": 9,
     "metadata": {},
     "output_type": "execute_result"
    }
   ],
   "source": [
    "run_ids = [id for id in range(8)]\n",
    "df_round_1 = get_feature_selection_results(run_ids, 8, wandb_api, [\"wind_speed\"])\n",
    "df_round_1.style.format({\"RMSE\": \"{:.4f}\", \"MAE\": \"{:.4f}\", \"improvement(RMSE)\": \"{:+.2f}%\"})"
   ]
  },
  {
   "cell_type": "markdown",
   "id": "182e6a5d",
   "metadata": {},
   "source": [
    "### Round 2"
   ]
  },
  {
   "cell_type": "code",
   "execution_count": null,
   "id": "7a3b9dd7",
   "metadata": {},
   "outputs": [
    {
     "data": {
      "text/html": [
       "<style type=\"text/css\">\n",
       "</style>\n",
       "<table id=\"T_b3590\">\n",
       "  <thead>\n",
       "    <tr>\n",
       "      <th class=\"blank level0\" >&nbsp;</th>\n",
       "      <th id=\"T_b3590_level0_col0\" class=\"col_heading level0 col0\" >features</th>\n",
       "      <th id=\"T_b3590_level0_col1\" class=\"col_heading level0 col1\" >RMSE</th>\n",
       "      <th id=\"T_b3590_level0_col2\" class=\"col_heading level0 col2\" >MAE</th>\n",
       "      <th id=\"T_b3590_level0_col3\" class=\"col_heading level0 col3\" >improvement(RMSE)</th>\n",
       "    </tr>\n",
       "  </thead>\n",
       "  <tbody>\n",
       "    <tr>\n",
       "      <th id=\"T_b3590_level0_row0\" class=\"row_heading level0 row0\" >6</th>\n",
       "      <td id=\"T_b3590_row0_col0\" class=\"data row0 col0\" >['wind_speed', 'wind_direction_cos', 'wind_direction_sin', 'hour_sin', 'hour_cos']</td>\n",
       "      <td id=\"T_b3590_row0_col1\" class=\"data row0 col1\" >1.2378</td>\n",
       "      <td id=\"T_b3590_row0_col2\" class=\"data row0 col2\" >0.9134</td>\n",
       "      <td id=\"T_b3590_row0_col3\" class=\"data row0 col3\" >+1.23%</td>\n",
       "    </tr>\n",
       "    <tr>\n",
       "      <th id=\"T_b3590_level0_row1\" class=\"row_heading level0 row1\" >3</th>\n",
       "      <td id=\"T_b3590_row1_col0\" class=\"data row1 col0\" >['wind_speed', 'wind_direction_cos', 'wind_direction_sin', 'relative_humidity']</td>\n",
       "      <td id=\"T_b3590_row1_col1\" class=\"data row1 col1\" >1.2400</td>\n",
       "      <td id=\"T_b3590_row1_col2\" class=\"data row1 col2\" >0.9163</td>\n",
       "      <td id=\"T_b3590_row1_col3\" class=\"data row1 col3\" >+1.05%</td>\n",
       "    </tr>\n",
       "    <tr>\n",
       "      <th id=\"T_b3590_level0_row2\" class=\"row_heading level0 row2\" >5</th>\n",
       "      <td id=\"T_b3590_row2_col0\" class=\"data row2 col0\" >['wind_speed', 'wind_direction_cos', 'wind_direction_sin', 'day_sin', 'day_cos']</td>\n",
       "      <td id=\"T_b3590_row2_col1\" class=\"data row2 col1\" >1.2436</td>\n",
       "      <td id=\"T_b3590_row2_col2\" class=\"data row2 col2\" >0.9190</td>\n",
       "      <td id=\"T_b3590_row2_col3\" class=\"data row2 col3\" >+0.76%</td>\n",
       "    </tr>\n",
       "    <tr>\n",
       "      <th id=\"T_b3590_level0_row3\" class=\"row_heading level0 row3\" >2</th>\n",
       "      <td id=\"T_b3590_row3_col0\" class=\"data row3 col0\" >['wind_speed', 'wind_direction_cos', 'wind_direction_sin', 'air_temperature']</td>\n",
       "      <td id=\"T_b3590_row3_col1\" class=\"data row3 col1\" >1.2444</td>\n",
       "      <td id=\"T_b3590_row3_col2\" class=\"data row3 col2\" >0.9178</td>\n",
       "      <td id=\"T_b3590_row3_col3\" class=\"data row3 col3\" >+0.70%</td>\n",
       "    </tr>\n",
       "    <tr>\n",
       "      <th id=\"T_b3590_level0_row4\" class=\"row_heading level0 row4\" >4</th>\n",
       "      <td id=\"T_b3590_row4_col0\" class=\"data row4 col0\" >['wind_speed', 'wind_direction_cos', 'wind_direction_sin', 'air_pressure']</td>\n",
       "      <td id=\"T_b3590_row4_col1\" class=\"data row4 col1\" >1.2447</td>\n",
       "      <td id=\"T_b3590_row4_col2\" class=\"data row4 col2\" >0.9246</td>\n",
       "      <td id=\"T_b3590_row4_col3\" class=\"data row4 col3\" >+0.67%</td>\n",
       "    </tr>\n",
       "    <tr>\n",
       "      <th id=\"T_b3590_level0_row5\" class=\"row_heading level0 row5\" >0</th>\n",
       "      <td id=\"T_b3590_row5_col0\" class=\"data row5 col0\" >['wind_speed', 'wind_direction_cos', 'wind_direction_sin']</td>\n",
       "      <td id=\"T_b3590_row5_col1\" class=\"data row5 col1\" >1.2531</td>\n",
       "      <td id=\"T_b3590_row5_col2\" class=\"data row5 col2\" >0.9297</td>\n",
       "      <td id=\"T_b3590_row5_col3\" class=\"data row5 col3\" >+0.00%</td>\n",
       "    </tr>\n",
       "    <tr>\n",
       "      <th id=\"T_b3590_level0_row6\" class=\"row_heading level0 row6\" >1</th>\n",
       "      <td id=\"T_b3590_row6_col0\" class=\"data row6 col0\" >['wind_speed', 'wind_direction_cos', 'wind_direction_sin', 'dew_point']</td>\n",
       "      <td id=\"T_b3590_row6_col1\" class=\"data row6 col1\" >1.2541</td>\n",
       "      <td id=\"T_b3590_row6_col2\" class=\"data row6 col2\" >0.9284</td>\n",
       "      <td id=\"T_b3590_row6_col3\" class=\"data row6 col3\" >-0.07%</td>\n",
       "    </tr>\n",
       "  </tbody>\n",
       "</table>\n"
      ],
      "text/plain": [
       "<pandas.io.formats.style.Styler at 0x21fad5a2210>"
      ]
     },
     "execution_count": 10,
     "metadata": {},
     "output_type": "execute_result"
    }
   ],
   "source": [
    "run_ids = [id for id in range(8, 14)]\n",
    "run_ids.append(4)\n",
    "\n",
    "df_round_2 = get_feature_selection_results(run_ids, 8, wandb_api, [\"wind_speed\", \"wind_direction_cos\", \"wind_direction_sin\"])\n",
    "df_round_2.style.format({\"RMSE\": \"{:.4f}\", \"MAE\": \"{:.4f}\", \"improvement(RMSE)\": \"{:+.2f}%\"})"
   ]
  },
  {
   "cell_type": "markdown",
   "id": "49545f6c",
   "metadata": {},
   "source": [
    "### Round 3"
   ]
  },
  {
   "cell_type": "code",
   "execution_count": 15,
   "id": "5cd12c09",
   "metadata": {},
   "outputs": [
    {
     "data": {
      "text/html": [
       "<style type=\"text/css\">\n",
       "</style>\n",
       "<table id=\"T_20d89\">\n",
       "  <thead>\n",
       "    <tr>\n",
       "      <th class=\"blank level0\" >&nbsp;</th>\n",
       "      <th id=\"T_20d89_level0_col0\" class=\"col_heading level0 col0\" >features</th>\n",
       "      <th id=\"T_20d89_level0_col1\" class=\"col_heading level0 col1\" >RMSE</th>\n",
       "      <th id=\"T_20d89_level0_col2\" class=\"col_heading level0 col2\" >MAE</th>\n",
       "      <th id=\"T_20d89_level0_col3\" class=\"col_heading level0 col3\" >improvement(RMSE)</th>\n",
       "    </tr>\n",
       "  </thead>\n",
       "  <tbody>\n",
       "    <tr>\n",
       "      <th id=\"T_20d89_level0_row0\" class=\"row_heading level0 row0\" >0</th>\n",
       "      <td id=\"T_20d89_row0_col0\" class=\"data row0 col0\" >['wind_speed', 'wind_direction_cos', 'wind_direction_sin', 'hour_sin', 'hour_cos', 'day_sin', 'day_cos']</td>\n",
       "      <td id=\"T_20d89_row0_col1\" class=\"data row0 col1\" >1.2209</td>\n",
       "      <td id=\"T_20d89_row0_col2\" class=\"data row0 col2\" >0.9011</td>\n",
       "      <td id=\"T_20d89_row0_col3\" class=\"data row0 col3\" >+0.00%</td>\n",
       "    </tr>\n",
       "    <tr>\n",
       "      <th id=\"T_20d89_level0_row1\" class=\"row_heading level0 row1\" >3</th>\n",
       "      <td id=\"T_20d89_row1_col0\" class=\"data row1 col0\" >['wind_speed', 'wind_direction_cos', 'wind_direction_sin', 'air_pressure', 'hour_sin', 'hour_cos', 'day_sin', 'day_cos']</td>\n",
       "      <td id=\"T_20d89_row1_col1\" class=\"data row1 col1\" >1.2229</td>\n",
       "      <td id=\"T_20d89_row1_col2\" class=\"data row1 col2\" >0.9058</td>\n",
       "      <td id=\"T_20d89_row1_col3\" class=\"data row1 col3\" >-0.16%</td>\n",
       "    </tr>\n",
       "    <tr>\n",
       "      <th id=\"T_20d89_level0_row2\" class=\"row_heading level0 row2\" >2</th>\n",
       "      <td id=\"T_20d89_row2_col0\" class=\"data row2 col0\" >['wind_speed', 'wind_direction_cos', 'wind_direction_sin', 'relative_humidity', 'hour_sin', 'hour_cos', 'day_sin', 'day_cos']</td>\n",
       "      <td id=\"T_20d89_row2_col1\" class=\"data row2 col1\" >1.2232</td>\n",
       "      <td id=\"T_20d89_row2_col2\" class=\"data row2 col2\" >0.9009</td>\n",
       "      <td id=\"T_20d89_row2_col3\" class=\"data row2 col3\" >-0.19%</td>\n",
       "    </tr>\n",
       "    <tr>\n",
       "      <th id=\"T_20d89_level0_row3\" class=\"row_heading level0 row3\" >1</th>\n",
       "      <td id=\"T_20d89_row3_col0\" class=\"data row3 col0\" >['wind_speed', 'wind_direction_cos', 'wind_direction_sin', 'dew_point', 'hour_sin', 'hour_cos', 'day_sin', 'day_cos']</td>\n",
       "      <td id=\"T_20d89_row3_col1\" class=\"data row3 col1\" >1.2331</td>\n",
       "      <td id=\"T_20d89_row3_col2\" class=\"data row3 col2\" >0.9081</td>\n",
       "      <td id=\"T_20d89_row3_col3\" class=\"data row3 col3\" >-1.00%</td>\n",
       "    </tr>\n",
       "    <tr>\n",
       "      <th id=\"T_20d89_level0_row4\" class=\"row_heading level0 row4\" >4</th>\n",
       "      <td id=\"T_20d89_row4_col0\" class=\"data row4 col0\" >['wind_speed', 'wind_direction_cos', 'wind_direction_sin', 'air_temperature', 'hour_sin', 'hour_cos', 'day_sin', 'day_cos']</td>\n",
       "      <td id=\"T_20d89_row4_col1\" class=\"data row4 col1\" >1.2335</td>\n",
       "      <td id=\"T_20d89_row4_col2\" class=\"data row4 col2\" >0.9083</td>\n",
       "      <td id=\"T_20d89_row4_col3\" class=\"data row4 col3\" >-1.03%</td>\n",
       "    </tr>\n",
       "  </tbody>\n",
       "</table>\n"
      ],
      "text/plain": [
       "<pandas.io.formats.style.Styler at 0x21fad9d64e0>"
      ]
     },
     "execution_count": 15,
     "metadata": {},
     "output_type": "execute_result"
    }
   ],
   "source": [
    "run_ids = [id for id in range(23, 28)]\n",
    "\n",
    "df_round_2 = get_feature_selection_results(\n",
    "    run_ids,\n",
    "    8,\n",
    "    wandb_api,\n",
    "    [\n",
    "        \"wind_speed\",\n",
    "        \"wind_direction_cos\",\n",
    "        \"wind_direction_sin\",\n",
    "        \"hour_sin\",\n",
    "        \"hour_cos\",\n",
    "        \"day_sin\",\n",
    "        \"day_cos\",\n",
    "    ],\n",
    ")\n",
    "df_round_2.style.format({\"RMSE\": \"{:.4f}\", \"MAE\": \"{:.4f}\", \"improvement(RMSE)\": \"{:+.2f}%\"})"
   ]
  },
  {
   "cell_type": "markdown",
   "id": "3686ba7a",
   "metadata": {},
   "source": [
    "So we select wind_speed, wind_direction, hour_of_day and day_of_year as best feature set"
   ]
  }
 ],
 "metadata": {
  "kernelspec": {
   "display_name": "base",
   "language": "python",
   "name": "python3"
  },
  "language_info": {
   "codemirror_mode": {
    "name": "ipython",
    "version": 3
   },
   "file_extension": ".py",
   "mimetype": "text/x-python",
   "name": "python",
   "nbconvert_exporter": "python",
   "pygments_lexer": "ipython3",
   "version": "3.12.7"
  }
 },
 "nbformat": 4,
 "nbformat_minor": 5
}
