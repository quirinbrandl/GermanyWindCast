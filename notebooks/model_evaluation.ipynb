{
 "cells": [
  {
   "cell_type": "code",
   "execution_count": 1,
   "id": "938ee1b3",
   "metadata": {},
   "outputs": [],
   "source": [
    "from utils.evaluation_utils import (\n",
    "    get_rmse_for_subset,\n",
    "    get_persistence_rmse,\n",
    "    calculate_percentage_improvement,\n",
    "    get_icon_indices,\n",
    "    get_icon_rmse\n",
    ")\n",
    "import os\n",
    "\n",
    "if \"notebooks\" in os.getcwd():\n",
    "    os.chdir(\"..\")"
   ]
  },
  {
   "cell_type": "code",
   "execution_count": 3,
   "id": "a4311039",
   "metadata": {},
   "outputs": [
    {
     "name": "stdout",
     "output_type": "stream",
     "text": [
      "Best model RMSE on test set for 1-hour-forecasting: 0.4877599758737074\n",
      "Persistence RMSE on test set for 1-hour-forecasting: 0.653826287009412\n",
      "Improvement over persistence model for 1-hour-forecasting: 25.39914873953577\n",
      "Best model RMSE on test set for 4-hour-forecasting: 0.7089728825887689\n",
      "Persistence RMSE on test set for 4-hour-forecasting: 1.0808728309103763\n",
      "Improvement over persistence model for 4-hour-forecasting: 34.4073731604828\n",
      "Best model RMSE on test set for 8-hour-forecasting: 0.8819428568962356\n",
      "Persistence RMSE on test set for 8-hour-forecasting: 1.4522720224160575\n",
      "Improvement over persistence model for 8-hour-forecasting: 39.27151089580308\n"
     ]
    }
   ],
   "source": [
    "for run_id, forecasting_hours in [(443, 1), (302, 4), (256, 8)]:\n",
    "    rmse = get_rmse_for_subset(\n",
    "        run_id,\n",
    "        forecasting_hours,\n",
    "        \"cuda\",\n",
    "        batch_size=128,\n",
    "        num_workers=4,\n",
    "        split=\"test\",\n",
    "    )\n",
    "    print(f\"Best model RMSE on test set for {forecasting_hours}-hour-forecasting: {rmse}\")\n",
    "\n",
    "    rmse_persistence = get_persistence_rmse(forecasting_hours, \"test\")\n",
    "    print(\n",
    "        f\"Persistence RMSE on test set for {forecasting_hours}-hour-forecasting: {rmse_persistence}\"\n",
    "    )\n",
    "\n",
    "    improvement = calculate_percentage_improvement(rmse_persistence, rmse)\n",
    "    print(\n",
    "        f\"Improvement over persistence model for {forecasting_hours}-hour-forecasting: {improvement}\"\n",
    "    )"
   ]
  },
  {
   "cell_type": "code",
   "execution_count": null,
   "id": "c3bfa117",
   "metadata": {},
   "outputs": [
    {
     "name": "stdout",
     "output_type": "stream",
     "text": [
      "Best RMSE of ICON-d2 on test set for 1-hour-forecasting: 0.5072820217012435\n",
      "Best RMSE of ICON-eu on test set for 1-hour-forecasting: 0.5729909352507732\n",
      "Best RMSE of ICON-d2 on test set for 4-hour-forecasting: 0.6346104672865877\n",
      "Best RMSE of ICON-eu on test set for 4-hour-forecasting: 0.8058863496093633\n",
      "Best RMSE of ICON-d2 on test set for 8-hour-forecasting: 0.656037752354576\n",
      "Best RMSE of ICON-eu on test set for 8-hour-forecasting: 0.8402520100182908\n"
     ]
    }
   ],
   "source": [
    "for h in [1, 4, 8]:\n",
    "    for variant in [\"d2\", \"eu\"]:\n",
    "        print(\n",
    "            f\"Best RMSE of ICON-{variant} on test set for {h}-hour-forecasting: {get_icon_rmse(h, \"test\", variant)}\"\n",
    "        )"
   ]
  },
  {
   "cell_type": "code",
   "execution_count": 2,
   "id": "91fa272e",
   "metadata": {},
   "outputs": [
    {
     "name": "stdout",
     "output_type": "stream",
     "text": [
      "1632\n",
      "1632\n"
     ]
    }
   ],
   "source": [
    "print(len(get_icon_indices(\"test\", \"d2\")))\n",
    "print(len(get_icon_indices(\"test\", \"eu\")))"
   ]
  }
 ],
 "metadata": {
  "kernelspec": {
   "display_name": "venv",
   "language": "python",
   "name": "python3"
  },
  "language_info": {
   "codemirror_mode": {
    "name": "ipython",
    "version": 3
   },
   "file_extension": ".py",
   "mimetype": "text/x-python",
   "name": "python",
   "nbconvert_exporter": "python",
   "pygments_lexer": "ipython3",
   "version": "3.13.3"
  }
 },
 "nbformat": 4,
 "nbformat_minor": 5
}
